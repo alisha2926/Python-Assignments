{
 "cells": [
  {
   "cell_type": "code",
   "execution_count": 1,
   "id": "3b9ab38b-2cd2-4764-808a-d790d2140a84",
   "metadata": {},
   "outputs": [],
   "source": [
    "choices = [1,2,3,4,5,6,7,8,9]\n",
    "player = 'X'\n",
    "selected = []"
   ]
  },
  {
   "cell_type": "code",
   "execution_count": 2,
   "id": "e0bf477e-2e59-48b2-8866-82197d9529f1",
   "metadata": {},
   "outputs": [],
   "source": [
    "flag = 0\n",
    "wins = [(0,1,2),(3,4,5),(6,7,8),(0,3,6),(1,4,7),(2,5,8),(0,4,8),(2,4,6)]"
   ]
  },
  {
   "cell_type": "markdown",
   "id": "19425212-2316-4421-bb72-e901fee7146e",
   "metadata": {},
   "source": [
    " while True:\n",
    "    print(\"\\n\\t\\tTIC TAC TOE\")\n",
    "    print(f\"\\n\\t\\t {choices[0]} | {choices[1]} | {choices[2]}\")\n",
    "    print(\"\\t\\t-----------\")\n",
    "    print(f\"\\t\\t {choices[3]} | {choices[4]} | {choices[5]}\")\n",
    "    print(\"\\t\\t-----------\")\n",
    "    print(f\"\\t\\t {choices[6]} | {choices[7]} | {choices[8]}\")\n",
    "    if flag==1:\n",
    "        break\n",
    "    if len(selected)==9:\n",
    "        print(\"\\n\\t       It's A TIE MATCH\")\n",
    "        break\n",
    "    print(f\"\\n\\t      Player {player} Truns : \",end=\"\")\n",
    "    ch = int(input())\n",
    "    if ch >=1 and ch<=9:\n",
    "        if ch not in selected:\n",
    "            selected.append(ch)\n",
    "            choices[ch-1] = player\n",
    "            for w in wins:\n",
    "                if choices[w[0]]==choices[w[1]] and choices[w[1]]==choices[w[2]]:\n",
    "                    print(f'\\n\\t ###### Player {player} WIN! ######')\n",
    "                    flag = 1\n",
    "            if player == 'X':\n",
    "                player = 'O'\n",
    "            else:\n",
    "                player = 'X'\n",
    "        else:\n",
    "            print(\"\\n\\tThis is Selected Position\")\n",
    "            print(\"\\tTry Another Position!\")\n",
    "    else:\n",
    "        print(\"\\n\\t\\tWrong Entered!\\n\\t\\tTry Again!\")"
   ]
  },
  {
   "cell_type": "code",
   "execution_count": null,
   "id": "38077add-f30b-4bab-b6ee-6b63d442a3db",
   "metadata": {},
   "outputs": [],
   "source": []
  }
 ],
 "metadata": {
  "kernelspec": {
   "display_name": "Python 3 (ipykernel)",
   "language": "python",
   "name": "python3"
  },
  "language_info": {
   "codemirror_mode": {
    "name": "ipython",
    "version": 3
   },
   "file_extension": ".py",
   "mimetype": "text/x-python",
   "name": "python",
   "nbconvert_exporter": "python",
   "pygments_lexer": "ipython3",
   "version": "3.11.7"
  }
 },
 "nbformat": 4,
 "nbformat_minor": 5
}
